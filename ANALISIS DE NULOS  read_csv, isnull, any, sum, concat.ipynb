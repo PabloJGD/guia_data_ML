{
 "cells": [
  {
   "cell_type": "code",
   "execution_count": 11,
   "metadata": {
    "collapsed": false
   },
   "outputs": [
    {
     "data": {
      "text/html": [
       "<div>\n",
       "<style scoped>\n",
       "    .dataframe tbody tr th:only-of-type {\n",
       "        vertical-align: middle;\n",
       "    }\n",
       "\n",
       "    .dataframe tbody tr th {\n",
       "        vertical-align: top;\n",
       "    }\n",
       "\n",
       "    .dataframe thead th {\n",
       "        text-align: right;\n",
       "    }\n",
       "</style>\n",
       "<table border=\"1\" class=\"dataframe\">\n",
       "  <thead>\n",
       "    <tr style=\"text-align: right;\">\n",
       "      <th></th>\n",
       "      <th>Nulos</th>\n",
       "      <th>Cantidad</th>\n",
       "      <th>Tipo Col</th>\n",
       "    </tr>\n",
       "  </thead>\n",
       "  <tbody>\n",
       "    <tr>\n",
       "      <th>Patient_ID</th>\n",
       "      <td>False</td>\n",
       "      <td>0</td>\n",
       "      <td>int64</td>\n",
       "    </tr>\n",
       "    <tr>\n",
       "      <th>Health_Camp_ID</th>\n",
       "      <td>False</td>\n",
       "      <td>0</td>\n",
       "      <td>int64</td>\n",
       "    </tr>\n",
       "    <tr>\n",
       "      <th>Registration_Date</th>\n",
       "      <td>True</td>\n",
       "      <td>323</td>\n",
       "      <td>object</td>\n",
       "    </tr>\n",
       "    <tr>\n",
       "      <th>Var1</th>\n",
       "      <td>False</td>\n",
       "      <td>0</td>\n",
       "      <td>int64</td>\n",
       "    </tr>\n",
       "    <tr>\n",
       "      <th>Var2</th>\n",
       "      <td>False</td>\n",
       "      <td>0</td>\n",
       "      <td>int64</td>\n",
       "    </tr>\n",
       "    <tr>\n",
       "      <th>Var3</th>\n",
       "      <td>False</td>\n",
       "      <td>0</td>\n",
       "      <td>int64</td>\n",
       "    </tr>\n",
       "    <tr>\n",
       "      <th>Var4</th>\n",
       "      <td>False</td>\n",
       "      <td>0</td>\n",
       "      <td>int64</td>\n",
       "    </tr>\n",
       "    <tr>\n",
       "      <th>Var5</th>\n",
       "      <td>False</td>\n",
       "      <td>0</td>\n",
       "      <td>int64</td>\n",
       "    </tr>\n",
       "  </tbody>\n",
       "</table>\n",
       "</div>"
      ],
      "text/plain": [
       "                   Nulos  Cantidad Tipo Col\n",
       "Patient_ID         False         0    int64\n",
       "Health_Camp_ID     False         0    int64\n",
       "Registration_Date   True       323   object\n",
       "Var1               False         0    int64\n",
       "Var2               False         0    int64\n",
       "Var3               False         0    int64\n",
       "Var4               False         0    int64\n",
       "Var5               False         0    int64"
      ]
     },
     "metadata": {},
     "output_type": "display_data"
    }
   ],
   "source": [
    "#importaciones\n",
    "import pandas as pd\n",
    "from IPython.display import display\n",
    "import matplotlib.pyplot as plt\n",
    "%matplotlib inline\n",
    "\n",
    "#variables\n",
    "sep = ','\n",
    "ruta = 'data/proof_train.csv'\n",
    "\n",
    "data = pd.read_csv(ruta, encoding= \"ISO-8859-1\", sep=sep)\n",
    "\n",
    "def null_verificator(data):        \n",
    "    if data.isnull().any().any():\n",
    "        view_info = pd.DataFrame(\n",
    "            pd.concat(\n",
    "                [data.isnull().any(), \n",
    "                 data.isnull().sum(),\n",
    "                 data.dtypes], \n",
    "                axis=1)\n",
    "        )\n",
    "        view_info.columns = ['Nulos', 'Cantidad', 'Tipo Col']\n",
    "        return view_info\n",
    "    else:\n",
    "        return \"DATA LIMPIA DE NULOS\"\n",
    "\n",
    "view_info = null_verificator(data)\n",
    "display(view_info)"
   ]
  },
  {
   "cell_type": "code",
   "execution_count": 29,
   "metadata": {
    "collapsed": false
   },
   "outputs": [
    {
     "data": {
      "text/plain": [
       "[Text(0,0,'0'),\n",
       " Text(0,0,'Patient_ID'),\n",
       " Text(0,0,'Health_Camp_ID'),\n",
       " Text(0,0,'Registration_Date'),\n",
       " Text(0,0,'Var1'),\n",
       " Text(0,0,'Var2'),\n",
       " Text(0,0,'Var3'),\n",
       " Text(0,0,'Var4'),\n",
       " Text(0,0,'Var5')]"
      ]
     },
     "execution_count": 29,
     "metadata": {},
     "output_type": "execute_result"
    },
    {
     "data": {
      "image/png": "[encoded data removed]",
      "text/plain": [
       "<matplotlib.figure.Figure at 0x7f5604161518>"
      ]
     },
     "metadata": {},
     "output_type": "display_data"
    }
   ],
   "source": [
    "ax = view_info['Cantidad'].plot(legend=True, rot=90)\n",
    "ax.set_xticklabels([0] + list(view_info.index))"
   ]
  },
  {
   "cell_type": "code",
   "execution_count": null,
   "metadata": {
    "collapsed": true
   },
   "outputs": [],
   "source": []
  }
 ],
 "metadata": {
  "kernelspec": {
   "display_name": "Python 3",
   "language": "python",
   "name": "python3"
  },
  "language_info": {
   "codemirror_mode": {
    "name": "ipython",
    "version": 3
   },
   "file_extension": ".py",
   "mimetype": "text/x-python",
   "name": "python",
   "nbconvert_exporter": "python",
   "pygments_lexer": "ipython3",
   "version": "3.6.4"
  }
 },
 "nbformat": 4,
 "nbformat_minor": 2
}
